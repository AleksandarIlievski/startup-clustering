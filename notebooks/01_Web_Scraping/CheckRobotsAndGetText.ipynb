{
 "cells": [
  {
   "cell_type": "code",
   "execution_count": 46,
   "metadata": {
    "executionInfo": {
     "elapsed": 5,
     "status": "ok",
     "timestamp": 1687207304414,
     "user": {
      "displayName": "Philipp testit",
      "userId": "16146400044498936906"
     },
     "user_tz": -120
    },
    "id": "vyZNWSAuZsNr"
   },
   "outputs": [],
   "source": [
    "import requests\n",
    "from bs4 import BeautifulSoup\n",
    "import pandas as pd\n",
    "import re\n",
    "from urllib.parse import urlparse\n",
    "import pandas as pd\n",
    "import os\n",
    "import json\n",
    "from src.Web_Scraping.basic_functions import (is_scraping_allowed, remove_cookie_banners, getWebsiteText, getWebsiteText_v2, format_string, remove_sentence_with_keyword)"
   ]
  },
  {
   "cell_type": "code",
   "execution_count": 6,
   "metadata": {
    "executionInfo": {
     "elapsed": 787,
     "status": "ok",
     "timestamp": 1687204472063,
     "user": {
      "displayName": "Philipp testit",
      "userId": "16146400044498936906"
     },
     "user_tz": -120
    },
    "id": "2dXXCEGTa-EW"
   },
   "outputs": [],
   "source": [
    "# path to csv file\n",
    "data = pd.read_csv(\"/content/drive/MyDrive/Startup_Scraping/startup_list_0_5000_prep.csv\", index_col=0)\n",
    "data.head()"
   ]
  },
  {
   "attachments": {},
   "cell_type": "markdown",
   "metadata": {
    "id": "Pkek8hxY9GXR"
   },
   "source": [
    "Check the robots.txt of each web page, by adjusting range(1751, 3500)\n",
    "-> all data: len(data)"
   ]
  },
  {
   "cell_type": "code",
   "execution_count": null,
   "metadata": {
    "collapsed": true,
    "id": "6P42tW-9aCY5"
   },
   "outputs": [],
   "source": [
    "for i in range(1751, 3500):\n",
    "  print(i) # only progress information\n",
    "  url = data['website_url'][i]\n",
    "  result = is_scraping_allowed(url)\n",
    "  data.loc[i, \"check_robots\"] = result"
   ]
  },
  {
   "cell_type": "code",
   "execution_count": null,
   "metadata": {
    "id": "effdqasaaKQs"
   },
   "outputs": [],
   "source": [
    "#Save data as new csv\n",
    "data.to_csv(\"/content/drive/MyDrive/\")"
   ]
  },
  {
   "attachments": {},
   "cell_type": "markdown",
   "metadata": {
    "id": "h4dq97-hJ5YI"
   },
   "source": [
    "Gets Text from the allowed websites and saves it as txt"
   ]
  },
  {
   "cell_type": "code",
   "execution_count": null,
   "metadata": {
    "id": "gd2z3H5-JW6P"
   },
   "outputs": [],
   "source": [
    "#path for the text files\n",
    "\n",
    "path = \"./txt_files_3501_5000/\"\n",
    "os.makedirs(path, exist_ok=True)"
   ]
  },
  {
   "cell_type": "code",
   "execution_count": null,
   "metadata": {
    "id": "U_imzBMQT9hC",
    "scrolled": true
   },
   "outputs": [],
   "source": [
    "for i in range(0, 1501):\n",
    "  if(data[\"check_robots\"][i]==True):\n",
    "    url = data['website_url'][i]\n",
    "    text = getWebsiteText(url)\n",
    "    lines = text.splitlines()\n",
    "    new_lines = [line for line in lines if line]\n",
    "    new_text = \"\\n\".join(new_lines)\n",
    "    # lowercase + remove everything in name but chars\n",
    "    # because some names contains symbols e.g. \":\" -> would destroy a textfile\n",
    "    name = data[\"name\"][i].lower()\n",
    "    name = re.sub(r\"[^a-z]\", \"\", name)\n",
    "    print(f\"{i}: {name}\") # only progress information\n",
    "    with open(path+name+\".txt\", \"w\", encoding=\"utf-8\") as f:\n",
    "      f.write(new_text)\n"
   ]
  },
  {
   "attachments": {},
   "cell_type": "markdown",
   "metadata": {
    "id": "cMUnKGxQyYmf"
   },
   "source": [
    "Gets Text from the allowed websites and saves as one json file"
   ]
  },
  {
   "cell_type": "code",
   "execution_count": 65,
   "metadata": {
    "executionInfo": {
     "elapsed": 315,
     "status": "ok",
     "timestamp": 1687207589096,
     "user": {
      "displayName": "Philipp testit",
      "userId": "16146400044498936906"
     },
     "user_tz": -120
    },
    "id": "qi6hZ0gsyYmf"
   },
   "outputs": [],
   "source": [
    "data = pd.read_csv(\"/content/drive/MyDrive/Startup_Scraping/startup_list_0_5000_prep.csv\", index_col=0)\n",
    "data['original_idx'] = data.index\n",
    "data = data.loc[data[\"check_robots\"] == True]"
   ]
  },
  {
   "cell_type": "code",
   "execution_count": null,
   "metadata": {
    "colab": {
     "base_uri": "https://localhost:8080/"
    },
    "executionInfo": {
     "elapsed": 3367164,
     "status": "ok",
     "timestamp": 1687210987550,
     "user": {
      "displayName": "Philipp testit",
      "userId": "16146400044498936906"
     },
     "user_tz": -120
    },
    "id": "ZJ1ANsYmyYmf",
    "outputId": "0cfe86c5-c19e-486f-90a6-7b65aecb0cd0"
   },
   "outputs": [],
   "source": [
    "data_dict = {}\n",
    "# Iterate over the rows of the DataFrame\n",
    "for index, row in data.iterrows():\n",
    "    print(index)\n",
    "    name = row['name']\n",
    "    id = row['original_idx']\n",
    "    url = row['website_url']\n",
    "\n",
    "    text = getWebsiteText_v2(url)\n",
    "\n",
    "    # Remove\n",
    "    lines = text.splitlines()\n",
    "    new_lines = [line for line in lines if line]\n",
    "    new_text = \"\\n\".join(new_lines)\n",
    "    website_text = format_string(new_text)\n",
    "\n",
    "\n",
    "    # Create a dictionary for the current row and add it to the data_dict\n",
    "    row_dict = {\n",
    "        'name': name,\n",
    "        'original_idx': id,\n",
    "        'website_url': url,\n",
    "        'website_text': website_text\n",
    "    }\n",
    "    data_dict[index] = row_dict\n",
    "\n",
    "\n",
    "json_object = json.dumps(data_dict, indent=4, ensure_ascii=False)\n",
    "with open(\"/content/drive/MyDrive/Startup_Scraping/startup_list_0_5000_without_cookie.json\", \"w\", encoding='utf-8') as outfile:\n",
    "    outfile.write(json_object)"
   ]
  },
  {
   "cell_type": "code",
   "execution_count": 29,
   "metadata": {
    "executionInfo": {
     "elapsed": 325,
     "status": "ok",
     "timestamp": 1687206606890,
     "user": {
      "displayName": "Philipp testit",
      "userId": "16146400044498936906"
     },
     "user_tz": -120
    },
    "id": "VlP2v7tAyYmg"
   },
   "outputs": [],
   "source": [
    "json_object = json.dumps(data_dict, indent=4, ensure_ascii=False)\n",
    "with open(\"/content/drive/MyDrive/Startup_Scraping/startup_list_0_5000_without_cookie.json\", \"w\", encoding='utf-8') as outfile:\n",
    "    outfile.write(json_object)"
   ]
  },
  {
   "cell_type": "code",
   "execution_count": null,
   "metadata": {
    "id": "Yqla2VdTXa-t"
   },
   "outputs": [],
   "source": []
  }
 ],
 "metadata": {
  "colab": {
   "provenance": []
  },
  "kernelspec": {
   "display_name": "Python 3 (ipykernel)",
   "language": "python",
   "name": "python3"
  },
  "language_info": {
   "codemirror_mode": {
    "name": "ipython",
    "version": 3
   },
   "file_extension": ".py",
   "mimetype": "text/x-python",
   "name": "python",
   "nbconvert_exporter": "python",
   "pygments_lexer": "ipython3",
   "version": "3.10.9"
  }
 },
 "nbformat": 4,
 "nbformat_minor": 0
}
